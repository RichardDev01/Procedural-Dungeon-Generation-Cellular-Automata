{
 "cells": [
  {
   "cell_type": "code",
   "execution_count": 1,
   "metadata": {},
   "outputs": [],
   "source": [
    "import numpy as np\n",
    "import matplotlib.pyplot as plt"
   ]
  },
  {
   "cell_type": "markdown",
   "metadata": {},
   "source": [
    "# Creating world"
   ]
  },
  {
   "cell_type": "code",
   "execution_count": 2,
   "metadata": {},
   "outputs": [],
   "source": [
    "def create_world(width, higth):\n",
    "    return np.zeros((higth, width))\n",
    "\n",
    "def init_world(world, thresh):\n",
    "    for index_y, value_y in enumerate(world):\n",
    "        for index_x, value_x in enumerate(value_y):\n",
    "            if index_x == 0 or index_x == world.shape[0] -1:\n",
    "                world[index_y][index_x] = 1\n",
    "            elif np.random.rand() < thresh:\n",
    "                    world[index_y][index_x] = 1\n",
    "    \n",
    "    world[0] = 1\n",
    "    world[-1] = 1\n",
    "    return world           \n",
    "\n",
    "def calculate_surrounding_pos(world):\n",
    "    calculate_array = np.zeros(world.shape)\n",
    "    for index_y, value_y in enumerate(calculate_array[1:-1]):\n",
    "        for index_x, value_x in enumerate(value_y[1:-1]):\n",
    "            array_index_x = index_x + 1\n",
    "            array_index_y = index_y + 1\n",
    "            count = world[array_index_y - 1][array_index_x - 1] + world[array_index_y - 1][array_index_x] + world[array_index_y - 1][array_index_x + 1] + \\\n",
    "                    world[array_index_y][array_index_x - 1]     + world[array_index_y][array_index_x]     + world[array_index_y][array_index_x + 1] + \\\n",
    "                    world[array_index_y + 1][array_index_x - 1] + world[array_index_y + 1][array_index_x] + world[array_index_y + 1][array_index_x + 1]\n",
    "            \n",
    "            calculate_array[array_index_y][array_index_x] = count\n",
    "            \n",
    "#             if index_x == 0 or index_x == world.shape[0] -1:\n",
    "#                 world[index_y][index_x] = 1\n",
    "                \n",
    "#     calculate_array[0] = 1\n",
    "#     calculate_array[-1] = 1\n",
    "    return calculate_array\n",
    "\n",
    "def update_world(world, step, birth_thresh, survival_thresh):\n",
    "    for _ in range(step):\n",
    "        calculate_alive = calculate_surrounding_pos(world)\n",
    "        for index_y, value_y in enumerate(np.zeros(world.shape)[1:-1]):\n",
    "            for index_x, value_x in enumerate(value_y[1:-1]):\n",
    "                array_index_x = index_x + 1\n",
    "                array_index_y = index_y + 1\n",
    "                \n",
    "                # Survival check\n",
    "                if world[array_index_y][array_index_x] == 1:\n",
    "                    if calculate_alive[array_index_y][array_index_x] < survival_thresh:\n",
    "                        world[array_index_y][array_index_x] = 0\n",
    "                    continue\n",
    "                        \n",
    "                # Birth check\n",
    "                if world[array_index_y][array_index_x] == 0:\n",
    "                    if calculate_alive[array_index_y][array_index_x] > birth_thresh:\n",
    "                        world[array_index_y][array_index_x] = 1\n",
    "                    continue\n",
    "                        \n",
    "    return world,calculate_alive"
   ]
  },
  {
   "cell_type": "code",
   "execution_count": 3,
   "metadata": {},
   "outputs": [
    {
     "data": {
      "image/png": "[encoded data removed]",
      "text/plain": [
       "<Figure size 720x720 with 1 Axes>"
      ]
     },
     "metadata": {
      "needs_background": "light"
     },
     "output_type": "display_data"
    }
   ],
   "source": [
    "thresh = 0.5\n",
    "world = create_world(75,150)\n",
    "world = init_world(world,thresh)\n",
    "# calculate_value = calculate_surrounding_pos(world)\n",
    "\n",
    "# world = update_world(world, calculate_value, step = 30, birth_thresh= 5, survival_thresh =4)\n",
    "# calculate_value = calculate_surrounding_pos(world)\n",
    "# plt.imshow(world)\n",
    "# plt.show()\n",
    "\n",
    "# plt.figure(figsize=(10, 10))\n",
    "# plt.imshow(world,cmap='binary')\n",
    "# plt.show()\n",
    "\n",
    "world, calculate_alive = update_world(world, step = 25, birth_thresh= 4, survival_thresh =5)\n",
    "plt.figure(figsize=(10, 10))\n",
    "plt.imshow(world,cmap='binary')\n",
    "plt.show()"
   ]
  },
  {
   "cell_type": "markdown",
   "metadata": {},
   "source": [
    "# Visualising"
   ]
  },
  {
   "cell_type": "code",
   "execution_count": 4,
   "metadata": {},
   "outputs": [],
   "source": [
    "import os\n",
    "from PIL import Image, ImageDraw\n",
    "from pathlib import Path\n",
    "import copy"
   ]
  },
  {
   "cell_type": "code",
   "execution_count": 5,
   "metadata": {},
   "outputs": [],
   "source": [
    "textures_path = 'D:\\\\git\\\\Procedural-Dungeon-Generation-Cellular-Automata\\\\assets\\\\debug_set\\\\'"
   ]
  },
  {
   "cell_type": "code",
   "execution_count": 6,
   "metadata": {},
   "outputs": [],
   "source": [
    "# Empty\n",
    "wall_000000000 = Image.open(textures_path + \"000000000.png\")\n",
    "wall_111111111 = Image.open(textures_path + \"111111111.png\")\n",
    "\n",
    "# Center\n",
    "wall_000010000 = Image.open(textures_path + \"000010000.png\")\n",
    "wall_111101111 = copy.deepcopy(wall_000010000)\n",
    "\n",
    "# 1 Corners\n",
    "wall_000000001 = Image.open(textures_path + \"000000001.png\")\n",
    "wall_000000100  =copy.deepcopy(wall_000000001).rotate(270) \n",
    "wall_001000000  =copy.deepcopy(wall_000000001).rotate(90) \n",
    "wall_100000000  =copy.deepcopy(wall_000000001).rotate(180) \n",
    "\n",
    "# 2 Corners\n",
    "wall_101000000 = Image.open(textures_path + \"101000000.png\")\n",
    "wall_001000001  = copy.deepcopy(wall_101000000).rotate(270)\n",
    "wall_000000101  = copy.deepcopy(wall_101000000).rotate(180)\n",
    "wall_100000100  = copy.deepcopy(wall_101000000).rotate(90)\n",
    "\n",
    "# 2 Diagnals\n",
    "wall_100000001 = Image.open(textures_path + \"100000001.png\")\n",
    "wall_001000100 =copy.deepcopy(wall_100000001).rotate(90) \n",
    "\n",
    "\n",
    "# 3 Corners\n",
    "wall_101000001 = Image.open(textures_path + \"101000001.png\")\n",
    "wall_001000101  =copy.deepcopy(wall_101000001).rotate(270) \n",
    "wall_100000101  =copy.deepcopy(wall_101000001).rotate(180) \n",
    "wall_101000100  =copy.deepcopy(wall_101000001).rotate(90) \n",
    "\n",
    "# Strokes\n",
    "wall_000000111 = Image.open(textures_path + \"000000111.png\")\n",
    "wall_001001001  =copy.deepcopy(wall_000000111).rotate(90) \n",
    "wall_111000000  =copy.deepcopy(wall_000000111).rotate(180) \n",
    "wall_100100100  =copy.deepcopy(wall_000000111).rotate(270) \n",
    "\n",
    "# Partial Strokes\n",
    "wall_000000011 = copy.deepcopy(wall_000000111)\n",
    "wall_000000110 = copy.deepcopy(wall_000000111)\n",
    "wall_000000010 = copy.deepcopy(wall_000000111)\n",
    "\n",
    "wall_000001001  =copy.deepcopy(wall_001001001)\n",
    "wall_001001000  =copy.deepcopy(wall_001001001)\n",
    "wall_000001000  =copy.deepcopy(wall_001001001)\n",
    "\n",
    "wall_011000000  =copy.deepcopy(wall_111000000)\n",
    "wall_110000000  =copy.deepcopy(wall_111000000)\n",
    "wall_010000000  =copy.deepcopy(wall_111000000)\n",
    "\n",
    "wall_000100100  =copy.deepcopy(wall_100100100)\n",
    "wall_100100000  =copy.deepcopy(wall_100100100)\n",
    "wall_000100000  =copy.deepcopy(wall_100100100)\n",
    "\n",
    "# Turns\n",
    "wall_110100000 = Image.open(textures_path + \"110100000.png\")\n",
    "wall_011001000 =copy.deepcopy(wall_110100000).rotate(270) \n",
    "wall_000100110 =copy.deepcopy(wall_110100000).rotate(90) \n",
    "wall_000001011 =copy.deepcopy(wall_110100000).rotate(180)\n",
    "\n",
    "# All but 1 corner\n",
    "wall_111111110 = Image.open(textures_path + \"111111110.png\")\n",
    "wall_110111111  =copy.deepcopy(wall_111111110).rotate(90) \n",
    "wall_011111111  =copy.deepcopy(wall_111111110).rotate(180) \n",
    "wall_111111011  =copy.deepcopy(wall_111111110).rotate(270) \n",
    "\n",
    "# All but 1+1 corner right\n",
    "wall_111111100 = Image.open(textures_path + \"111111100.png\")\n",
    "wall_110110111  =copy.deepcopy(wall_111111100).rotate(90) \n",
    "wall_001111111  =copy.deepcopy(wall_111111100).rotate(180) \n",
    "wall_111011011  =copy.deepcopy(wall_111111100).rotate(270) \n",
    "\n",
    "# All but 1+1 corner left\n",
    "wall_111111001 = Image.open(textures_path + \"111111001.png\")\n",
    "wall_111110110  =copy.deepcopy(wall_111111001).rotate(90) \n",
    "wall_100111111  =copy.deepcopy(wall_111111001).rotate(180) \n",
    "wall_011011111  =copy.deepcopy(wall_111111001).rotate(270) \n",
    "\n",
    "# Tri corner\n",
    "wall_111011001 = Image.open(textures_path + \"111011001.png\")\n",
    "wall_111110100  =copy.deepcopy(wall_111011001).rotate(90) \n",
    "wall_100110111  =copy.deepcopy(wall_111011001).rotate(180) \n",
    "wall_001011111  =copy.deepcopy(wall_111011001).rotate(270) \n",
    "\n",
    "# Small corners\n",
    "wall_111100000 = Image.open(textures_path + \"111100000.png\")\n",
    "wall_000110110  =copy.deepcopy(wall_111100000).rotate(90) \n",
    "wall_000011011  =copy.deepcopy(wall_111100000).rotate(180) \n",
    "wall_011011000  =copy.deepcopy(wall_111100000).rotate(270) \n",
    "\n",
    "# Stroke wall\n",
    "wall_111111000 = Image.open(textures_path + \"111111000.png\")\n",
    "wall_110110110  =copy.deepcopy(wall_111111000).rotate(90) \n",
    "wall_000111111  =copy.deepcopy(wall_111111000).rotate(180) \n",
    "wall_011011011  =copy.deepcopy(wall_111111000).rotate(270) \n",
    "\n",
    "# Tetris L\n",
    "wall_111001000 = Image.open(textures_path + \"111001000.png\")\n",
    "wall_110100100  =copy.deepcopy(wall_111001000).rotate(90) \n",
    "wall_000100111  =copy.deepcopy(wall_111001000).rotate(180) \n",
    "wall_001001011  =copy.deepcopy(wall_111001000).rotate(270) \n",
    "     \n",
    "# Tetris Inverted-L\n",
    "wall_011001001 = Image.open(textures_path + \"011001001.png\")\n",
    "wall_111100000  =copy.deepcopy(wall_011001001).rotate(90) \n",
    "wall_100100110  =copy.deepcopy(wall_011001001).rotate(180) \n",
    "wall_000001111  =copy.deepcopy(wall_011001001).rotate(270) \n",
    "\n",
    "# P blok\n",
    "wall_011011001 = Image.open(textures_path + \"011011001.png\")\n",
    "wall_111110000  =copy.deepcopy(wall_011011001).rotate(90) \n",
    "wall_100110110  =copy.deepcopy(wall_011011001).rotate(180) \n",
    "wall_000011111  =copy.deepcopy(wall_011011001).rotate(270) \n",
    "\n",
    "# Q blok\n",
    "wall_110110100 = Image.open(textures_path + \"110110100.png\")\n",
    "wall_000110111  =copy.deepcopy(wall_110110100).rotate(90) \n",
    "wall_001011011  =copy.deepcopy(wall_110110100).rotate(180) \n",
    "wall_111011000  =copy.deepcopy(wall_110110100).rotate(270) \n",
    "\n",
    "# Thick dash\n",
    "wall_110111011 = Image.open(textures_path + \"110111011.png\")\n",
    "wall_011111110  =copy.deepcopy(wall_110111011).rotate(90) \n",
    "\n",
    "# Missing Textures\n",
    "missing_texture = Image.open(textures_path + \"missing.png\")"
   ]
  },
  {
   "cell_type": "code",
   "execution_count": 7,
   "metadata": {},
   "outputs": [],
   "source": [
    "texture_dict = {'000000000': wall_000000000,\n",
    "                '111111111': wall_111111111,\n",
    "                '000010000': wall_000010000,\n",
    "                '111101111': wall_111101111,\n",
    "                '000000001': wall_000000001,\n",
    "                '000000100': wall_000000100,\n",
    "                '001000000': wall_001000000,\n",
    "                '100000000': wall_100000000,\n",
    "                '101000000': wall_101000000,\n",
    "                '001000001': wall_001000001,\n",
    "                '000000101': wall_000000101,\n",
    "                '100000100': wall_100000100,\n",
    "                '100000001': wall_100000001,\n",
    "                '001000100': wall_001000100,\n",
    "                '101000001': wall_101000001,\n",
    "                '001000101': wall_001000101,\n",
    "                '100000101': wall_100000101,\n",
    "                '101000100': wall_101000100,\n",
    "                '000000111': wall_000000111,\n",
    "                '001001001': wall_001001001,\n",
    "                '111000000': wall_111000000,\n",
    "                '100100100': wall_100100100,\n",
    "                '000000011': wall_000000011,\n",
    "                '000000110': wall_000000110,\n",
    "                '000000010': wall_000000010,\n",
    "                '000001001': wall_000001001,\n",
    "                '001001000': wall_001001000,\n",
    "                '000001000': wall_000001000,\n",
    "                '011000000': wall_011000000,\n",
    "                '110000000': wall_110000000,\n",
    "                '010000000': wall_010000000,\n",
    "                '000100100': wall_000100100,\n",
    "                '100100000': wall_100100000,\n",
    "                '000100000': wall_000100000,\n",
    "                '110100000': wall_110100000,\n",
    "                '011001000': wall_011001000,\n",
    "                '000100110': wall_000100110,\n",
    "                '000001011': wall_000001011,\n",
    "                '111111110': wall_111111110,\n",
    "                '110111111': wall_110111111,\n",
    "                '011111111': wall_011111111,\n",
    "                '111111011': wall_111111011,\n",
    "                '111111100': wall_111111100,\n",
    "                '110110111': wall_110110111,\n",
    "                '001111111': wall_001111111,\n",
    "                '111011011': wall_111011011,\n",
    "                '111111001': wall_111111001,\n",
    "                '111110110': wall_111110110,\n",
    "                '100111111': wall_100111111,\n",
    "                '011011111': wall_011011111,\n",
    "                '111011001': wall_111011001,\n",
    "                '111110100': wall_111110100,\n",
    "                '100110111': wall_100110111,\n",
    "                '001011111': wall_001011111,\n",
    "                '111100000': wall_111100000,\n",
    "                '000110110': wall_000110110,\n",
    "                '000011011': wall_000011011,\n",
    "                '011011000': wall_011011000,\n",
    "                '111001000': wall_111001000,\n",
    "                '110100100': wall_110100100,\n",
    "                '000100111': wall_000100111,\n",
    "                '001001011': wall_001001011,\n",
    "                '111111000': wall_111111000,\n",
    "                '110110110': wall_110110110,\n",
    "                '000111111': wall_000111111,\n",
    "                '011011011': wall_011011011,\n",
    "                '011001001': wall_011001001,\n",
    "                '111100000': wall_111100000,\n",
    "                '100100110': wall_100100110,\n",
    "                '000001111': wall_000001111,\n",
    "                '011011001': wall_011011001,\n",
    "                '111110000': wall_111110000,\n",
    "                '100110110': wall_100110110,\n",
    "                '000011111': wall_000011111,\n",
    "                '110110100': wall_110110100,\n",
    "                '000110111': wall_000110111,\n",
    "                '001011011': wall_001011011,\n",
    "                '111011000': wall_111011000,\n",
    "                '110111011':wall_110111011,\n",
    "                '011111110':wall_011111110,\n",
    "                'missing_texture': missing_texture}"
   ]
  },
  {
   "cell_type": "markdown",
   "metadata": {},
   "source": [
    "# Process world to textures"
   ]
  },
  {
   "cell_type": "code",
   "execution_count": 32,
   "metadata": {},
   "outputs": [],
   "source": [
    "def determin_texture_pos(world):\n",
    "    calculate_array = np.zeros(world.shape).astype(str)\n",
    "    max_height, max_width,  = calculate_array.shape\n",
    "    max_height += -1\n",
    "    max_width += -1\n",
    "    world = world.astype(int)\n",
    "    for index_y, value_y in enumerate(calculate_array):\n",
    "        for index_x, value_x in enumerate(value_y):\n",
    "            texture_ind = str(world[max(index_y - 1, 0)][max(index_x - 1, 0)]) + str(world[max(index_y - 1, 0)][index_x]) + str(world[max(index_y - 1, 0)][min(index_x + 1, max_width)]) + \\\n",
    "                    str(world[index_y][max(index_x - 1, 0)])                   + str(world[index_y][index_x])     + str(world[index_y][min(index_x + 1, max_width)]) + \\\n",
    "                    str(world[min(index_y + 1, max_height)][max(index_x - 1, 0)]) + str(world[min(index_y + 1, max_height)][index_x]) + str(world[min(index_y + 1, max_height)][min(index_x + 1, max_width)])\n",
    "            \n",
    "            calculate_array[index_y][index_x] = texture_ind\n",
    "            \n",
    "    return calculate_array.astype(str)"
   ]
  },
  {
   "cell_type": "code",
   "execution_count": 33,
   "metadata": {},
   "outputs": [],
   "source": [
    "texture_world = determin_texture_pos(world)"
   ]
  },
  {
   "cell_type": "markdown",
   "metadata": {},
   "source": [
    "world.shape[0]"
   ]
  },
  {
   "cell_type": "code",
   "execution_count": 34,
   "metadata": {},
   "outputs": [],
   "source": [
    "# Get width and height of the walls\n",
    "tile_size_width, tile_size_height = wall_000000000.size\n",
    "\n",
    "# Calculate canvas size of the maze\n",
    "width = world.shape[0] * tile_size_width\n",
    "height = world.shape[1] * tile_size_height\n",
    "\n",
    "# Get maze grind size\n",
    "maze_width, maze_height = world.shape\n",
    "\n",
    "# Create canvas\n",
    "background = Image.new(mode=\"RGB\", size=(height, width))"
   ]
  },
  {
   "cell_type": "code",
   "execution_count": 35,
   "metadata": {},
   "outputs": [],
   "source": [
    "counter ={}\n",
    "\n",
    "for height_row, value_y in enumerate(texture_world):\n",
    "        for index, value_x in enumerate(value_y):\n",
    "            if texture_world[height_row][index] in texture_dict:\n",
    "                texture = texture_dict[str(texture_world[height_row][index])]\n",
    "            else:\n",
    "                texture = texture_dict['missing_texture']\n",
    "                if texture_world[height_row][index] not in counter:\n",
    "                    counter[texture_world[height_row][index]] = 1\n",
    "                else:\n",
    "                    counter[texture_world[height_row][index]] += 1\n",
    "            background.paste(texture, (index * tile_size_width, height_row * tile_size_height), texture)"
   ]
  },
  {
   "cell_type": "code",
   "execution_count": 36,
   "metadata": {},
   "outputs": [
    {
     "data": {
      "text/plain": [
       "'111111111'"
      ]
     },
     "execution_count": 36,
     "metadata": {},
     "output_type": "execute_result"
    }
   ],
   "source": [
    "texture_world[0][0]"
   ]
  },
  {
   "cell_type": "code",
   "execution_count": 37,
   "metadata": {
    "scrolled": false
   },
   "outputs": [
    {
     "data": {
      "image/png": "[encoded data removed]",
      "text/plain": [
       "<PIL.Image.Image image mode=RGB size=1200x2400>"
      ]
     },
     "execution_count": 37,
     "metadata": {},
     "output_type": "execute_result"
    }
   ],
   "source": [
    "background"
   ]
  },
  {
   "cell_type": "code",
   "execution_count": 38,
   "metadata": {},
   "outputs": [
    {
     "data": {
      "text/plain": [
       "48"
      ]
     },
     "execution_count": 38,
     "metadata": {},
     "output_type": "execute_result"
    }
   ],
   "source": [
    "len(counter)"
   ]
  },
  {
   "cell_type": "code",
   "execution_count": 39,
   "metadata": {},
   "outputs": [
    {
     "data": {
      "text/plain": [
       "{'011011110': 1,\n",
       " '011110111': 1,\n",
       " '111100111': 15,\n",
       " '110110000': 1,\n",
       " '100100001': 2,\n",
       " '111100001': 1,\n",
       " '110000011': 1,\n",
       " '100001111': 1,\n",
       " '111100100': 7,\n",
       " '100001001': 1,\n",
       " '100100111': 8,\n",
       " '110111110': 14,\n",
       " '100111100': 14,\n",
       " '111110111': 14,\n",
       " '110111001': 3,\n",
       " '100111011': 3,\n",
       " '111110101': 1,\n",
       " '111100011': 1,\n",
       " '110101000': 1,\n",
       " '100011000': 1,\n",
       " '011000011': 6,\n",
       " '000011000': 6,\n",
       " '001001110': 1,\n",
       " '011011100': 1,\n",
       " '001110110': 1,\n",
       " '011100100': 2,\n",
       " '001111110': 2,\n",
       " '011111100': 2,\n",
       " '110100001': 1,\n",
       " '100000011': 1,\n",
       " '100001000': 2,\n",
       " '000001100': 1,\n",
       " '001100100': 1,\n",
       " '000101110': 2,\n",
       " '000011100': 2,\n",
       " '101110111': 1,\n",
       " '011100111': 1,\n",
       " '101110110': 1,\n",
       " '100110011': 1,\n",
       " '110011001': 1,\n",
       " '110110001': 1,\n",
       " '100100011': 1,\n",
       " '110001001': 1,\n",
       " '100011011': 1,\n",
       " '110111000': 1,\n",
       " '100111000': 1,\n",
       " '111000001': 1,\n",
       " '111000011': 1}"
      ]
     },
     "execution_count": 39,
     "metadata": {},
     "output_type": "execute_result"
    }
   ],
   "source": [
    "counter"
   ]
  },
  {
   "cell_type": "code",
   "execution_count": 15,
   "metadata": {},
   "outputs": [
    {
     "data": {
      "image/png": "[encoded data removed]",
      "text/plain": [
       "<PIL.PngImagePlugin.PngImageFile image mode=RGBA size=16x16>"
      ]
     },
     "execution_count": 15,
     "metadata": {},
     "output_type": "execute_result"
    }
   ],
   "source": [
    "texture_dict['111111110']"
   ]
  },
  {
   "cell_type": "markdown",
   "metadata": {},
   "source": [
    "wall_001000100"
   ]
  }
 ],
 "metadata": {
  "kernelspec": {
   "display_name": "dnd",
   "language": "python",
   "name": "dnd"
  },
  "language_info": {
   "codemirror_mode": {
    "name": "ipython",
    "version": 3
   },
   "file_extension": ".py",
   "mimetype": "text/x-python",
   "name": "python",
   "nbconvert_exporter": "python",
   "pygments_lexer": "ipython3",
   "version": "3.9.1"
  }
 },
 "nbformat": 4,
 "nbformat_minor": 4
}
